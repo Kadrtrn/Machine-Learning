{
 "cells": [
  {
   "cell_type": "code",
   "execution_count": 1,
   "id": "93308944",
   "metadata": {},
   "outputs": [],
   "source": [
    "import pandas as pd \n",
    "from sklearn.linear_model import LogisticRegression\n",
    "from sklearn.model_selection import train_test_split , GridSearchCV ,cross_val_score\n",
    "from sklearn.metrics import confusion_matrix , accuracy_score , mean_squared_error\n",
    "from sklearn.ensemble import RandomForestClassifier\n",
    "from sklearn.preprocessing import StandardScaler\n",
    "\n",
    "\n",
    "import matplotlib.pyplot as plt \n",
    "\n",
    "import warnings\n",
    "\n",
    "warnings.filterwarnings('ignore',category=DeprecationWarning)\n",
    "warnings.filterwarnings('ignore',category=FutureWarning)"
   ]
  },
  {
   "cell_type": "code",
   "execution_count": 2,
   "id": "b9f34d36",
   "metadata": {},
   "outputs": [],
   "source": [
    "df=pd.read_csv('./titanic_temizlenmiş.csv')\n",
    "pd.set_option('display.max_columns', None)\n",
    "pd.set_option('display.max_rows', None)"
   ]
  },
  {
   "cell_type": "code",
   "execution_count": 3,
   "id": "94e33d70",
   "metadata": {},
   "outputs": [],
   "source": [
    "y=df['Survived']\n",
    "x=df.drop(['Survived'],axis=1)"
   ]
  },
  {
   "cell_type": "code",
   "execution_count": 4,
   "id": "3d1d9f26",
   "metadata": {},
   "outputs": [],
   "source": [
    "x_train ,x_test ,y_train ,y_test =train_test_split(x,\n",
    "                                                   y,\n",
    "                                                   test_size=0.3,\n",
    "                                                   random_state=42,stratify=y)"
   ]
  },
  {
   "cell_type": "markdown",
   "id": "cd48176c",
   "metadata": {},
   "source": [
    "# StandarScaler"
   ]
  },
  {
   "cell_type": "code",
   "execution_count": 5,
   "id": "babd2894",
   "metadata": {},
   "outputs": [],
   "source": [
    "scaler=StandardScaler()\n",
    "scaler.fit(x_train)\n",
    "x_train_scaled=scaler.transform(x_train)\n",
    "scaler.fit(x_test)\n",
    "x_test_scaled=scaler.transform(x_test)"
   ]
  },
  {
   "cell_type": "markdown",
   "id": "4226d39f",
   "metadata": {},
   "source": [
    "# Logistic Regression"
   ]
  },
  {
   "cell_type": "code",
   "execution_count": 58,
   "id": "5059cf35",
   "metadata": {},
   "outputs": [],
   "source": [
    "loj_model=LogisticRegression()\n",
    "loj_params={'solver':['newton-cg','lbfgs','liblinear','sag','saga']}\n",
    "loj_cv_model=GridSearchCV(loj_model,loj_params,cv=10).fit(x_train_scaled,y_train)"
   ]
  },
  {
   "cell_type": "code",
   "execution_count": 59,
   "id": "18c5136f",
   "metadata": {},
   "outputs": [
    {
     "data": {
      "text/plain": [
       "{'solver': 'newton-cg'}"
      ]
     },
     "execution_count": 59,
     "metadata": {},
     "output_type": "execute_result"
    }
   ],
   "source": [
    "#Burda en iyi methodumuz newton-cg \n",
    "loj_cv_model.best_params_"
   ]
  },
  {
   "cell_type": "code",
   "execution_count": 60,
   "id": "065bf8bd",
   "metadata": {},
   "outputs": [],
   "source": [
    "#Final model\n",
    "loj_final=LogisticRegression(solver=loj_cv_model.best_params_['solver']).fit(x_train_scaled,y_train)"
   ]
  },
  {
   "cell_type": "code",
   "execution_count": 113,
   "id": "3c51a189",
   "metadata": {},
   "outputs": [
    {
     "name": "stdout",
     "output_type": "stream",
     "text": [
      "Test sonucu 0.8052434456928839\n",
      "Eğitim sonucu 0.8132045088566827\n",
      "[[143  22]\n",
      " [ 30  72]]\n",
      "K katlı test sonucu 0.7904139433551199\n",
      "K katlı eğitim sonucu 0.8005807200929153\n"
     ]
    }
   ],
   "source": [
    "#Train ve test arasında neredeyse hiç fark yok \n",
    "#Karmaşıklık matrisinde ise doğru tahmin edilmesi gerekenler çoguntukta duruyor sorun yok gibi duruyor\n",
    "y_pred_test=loj_final.predict(x_test_scaled)\n",
    "y_pred_train=loj_final.predict(x_train_scaled)\n",
    "\n",
    "loj_accuracy_test=accuracy_score(y_test,y_pred_test)\n",
    "loj_accuracy_train=accuracy_score(y_train,y_pred_train)\n",
    "\n",
    "print('Test sonucu',loj_accuracy_test)\n",
    "print('Eğitim sonucu',loj_accuracy_train)\n",
    "print(confusion_matrix(y_test,y_pred_test))\n",
    "#Aşagıdaki hata değerleri arasında da çok fazla fark olmadığı için sorun yok diyebiliriz\n",
    "print('K katlı test sonucu',cross_val_score(loj_final,x_test_scaled,y_test,cv=15).mean())\n",
    "print('K katlı eğitim sonucu',cross_val_score(loj_final,x_train_scaled,y_train,cv=15).mean())\n",
    "\n"
   ]
  },
  {
   "cell_type": "markdown",
   "id": "8da0c190",
   "metadata": {},
   "source": [
    "# Random Forest Classifier"
   ]
  },
  {
   "cell_type": "code",
   "execution_count": 81,
   "id": "8638a5a8",
   "metadata": {},
   "outputs": [],
   "source": [
    "rf=RandomForestClassifier()\n",
    "rf_params={\n",
    "    'n_estimators':[500,600,1000,1500],\n",
    "    'max_features':[6,7,8],\n",
    "    'min_samples_split':[2,3,4]\n",
    "    }\n",
    "rf_cv_model=GridSearchCV(rf, rf_params,cv=10).fit(x_train,y_train)\n"
   ]
  },
  {
   "cell_type": "code",
   "execution_count": 82,
   "id": "0797411a",
   "metadata": {},
   "outputs": [
    {
     "name": "stdout",
     "output_type": "stream",
     "text": [
      "{'max_features': 7, 'min_samples_split': 4, 'n_estimators': 500}\n"
     ]
    }
   ],
   "source": [
    "print(rf_cv_model.best_params_)"
   ]
  },
  {
   "cell_type": "code",
   "execution_count": 83,
   "id": "fb4b7657",
   "metadata": {},
   "outputs": [],
   "source": [
    "rf_tuned=RandomForestClassifier(n_estimators=rf_cv_model.best_params_['n_estimators'],\n",
    "                                max_features=rf_cv_model.best_params_['max_features'],\n",
    "                                min_samples_split=rf_cv_model.best_params_['min_samples_split']\n",
    "                                ).fit(x_train, y_train)"
   ]
  },
  {
   "cell_type": "code",
   "execution_count": 84,
   "id": "b57a9830",
   "metadata": {},
   "outputs": [
    {
     "name": "stdout",
     "output_type": "stream",
     "text": [
      "Test skoru : 0.8277153558052435\n",
      "Train skoru : 0.9565217391304348\n",
      "K katlı test skoru 0.8058823529411766\n",
      "K katlı eğitim skoru 0.8134339914827721\n"
     ]
    }
   ],
   "source": [
    "y_pred_test=rf_tuned.predict(x_test)\n",
    "y_pred_train=rf_tuned.predict(x_train)\n",
    "\n",
    "rf_accuracy_test=accuracy_score(y_test, y_pred_test)\n",
    "rf_accuracy_train=accuracy_score(y_train, y_pred_train)\n",
    "print('Test skoru :',rf_accuracy_test)\n",
    "print('Train skoru :',rf_accuracy_train)\n",
    "\n",
    "print('K katlı test skoru',cross_val_score(rf_tuned,x_test,y_test,cv=15).mean())\n",
    "print('K katlı eğitim skoru',cross_val_score(rf_tuned,x_train,y_train,cv=15).mean())\n",
    "\n"
   ]
  },
  {
   "cell_type": "markdown",
   "id": "fcf03afc",
   "metadata": {},
   "source": [
    "Yukarıdaki sonuçlara baktığımda modelin overfit olduğunu düşünüyorum çünkü train ve test sonuçları birbirinden uzak \n",
    "bunu engellemek için ilk önce ağacın budanmasını azaltmak istedim fakat budama yöntemi de overfiti azaltmak için olduğundan daha kötü sonuçlar elde ettim.\n",
    "Daha sonra ise GridSearchCV fonksiyonundan aldığım optimum parametre değerlerini optimum olmayanlarla değiştirdim fakat sonuç tekrar daha kötü hale geldi.\n",
    "En sonunda ise madem ağacım çok iyi ögreniyor bende ağacı yarıdayken keseyim yani max_depth parametresini düşük bir değer vereyim dedim.Bunu yaptıktan sonra test ve train sonuçları gerçekten birbirine daha çok yaklaştı.İnternette'de yaptığım araştırmalar sonucunda max_depth in yüksek olmasının düşük bias yüksek varyansa,düşük olması ise yüksek bias düşük varyansa sebep oluyormuş.Ortasını bulacağız."
   ]
  },
  {
   "cell_type": "markdown",
   "id": "11722812",
   "metadata": {},
   "source": [
    "# Optimum max_depth için inceleme"
   ]
  },
  {
   "cell_type": "code",
   "execution_count": 111,
   "id": "c0f18c39",
   "metadata": {},
   "outputs": [
    {
     "name": "stdout",
     "output_type": "stream",
     "text": [
      "1 iterasyon için test sonucu : 0.7790262172284644\n",
      "1 iterasyon için train sonucu : 0.7922705314009661\n",
      "*********************************\n",
      "2 iterasyon için test sonucu : 0.7715355805243446\n",
      "2 iterasyon için train sonucu : 0.8051529790660226\n",
      "*********************************\n",
      "3 iterasyon için test sonucu : 0.7790262172284644\n",
      "3 iterasyon için train sonucu : 0.8148148148148148\n",
      "*********************************\n",
      "4 iterasyon için test sonucu : 0.8089887640449438\n",
      "4 iterasyon için train sonucu : 0.8454106280193237\n",
      "*********************************\n",
      "5 iterasyon için test sonucu : 0.8014981273408239\n",
      "5 iterasyon için train sonucu : 0.8647342995169082\n",
      "*********************************\n",
      "6 iterasyon için test sonucu : 0.8014981273408239\n",
      "6 iterasyon için train sonucu : 0.8904991948470209\n",
      "*********************************\n",
      "7 iterasyon için test sonucu : 0.8164794007490637\n",
      "7 iterasyon için train sonucu : 0.9066022544283414\n",
      "*********************************\n",
      "8 iterasyon için test sonucu : 0.8239700374531835\n",
      "8 iterasyon için train sonucu : 0.9243156199677939\n",
      "*********************************\n",
      "9 iterasyon için test sonucu : 0.8277153558052435\n",
      "9 iterasyon için train sonucu : 0.9339774557165862\n",
      "*********************************\n"
     ]
    }
   ],
   "source": [
    "test_scores=[]\n",
    "train_scores=[]\n",
    "\n",
    "for i in range(1,10):\n",
    "    rf_tuned=RandomForestClassifier(n_estimators=rf_cv_model.best_params_['n_estimators'],\n",
    "                                max_features=rf_cv_model.best_params_['max_features'],\n",
    "                                min_samples_split=rf_cv_model.best_params_['min_samples_split'],\n",
    "                                max_depth=i\n",
    "                                ).fit(x_train, y_train)\n",
    "    test_pred=rf_tuned.predict(x_test)\n",
    "    test_acc=accuracy_score(y_test,test_pred)\n",
    "    test_scores.append(test_acc)\n",
    "    print(i,'iterasyon için test sonucu :',test_acc)\n",
    "    \n",
    "    train_pred=rf_tuned.predict(x_train)\n",
    "    train_acc=accuracy_score(y_train,train_pred)\n",
    "    train_scores.append(train_acc)\n",
    "    print(i,'iterasyon için train sonucu :',train_acc)\n",
    "    print('*********************************')\n",
    "\n",
    "    "
   ]
  },
  {
   "cell_type": "code",
   "execution_count": 112,
   "id": "65ffe974",
   "metadata": {
    "scrolled": true
   },
   "outputs": [
    {
     "data": {
      "image/png": "[encoded data removed]",
      "text/plain": [
       "<Figure size 432x288 with 1 Axes>"
      ]
     },
     "metadata": {
      "needs_background": "light"
     },
     "output_type": "display_data"
    }
   ],
   "source": [
    "plt.plot(range(1,10), train_scores, '-o', label='Train')\n",
    "plt.plot(range(1,10), test_scores, '-o', label='Test')\n",
    "plt.legend()\n",
    "plt.show()"
   ]
  },
  {
   "cell_type": "markdown",
   "id": "cb454e7a",
   "metadata": {},
   "source": [
    "Yukarıda max_depth 1 ve 4 için daha öncekine nazaran daha iyi sonuçlar elde ettik.\n",
    "Son olarak max_features'ı da küçülterek ağaç boyunu kısaltmaya ve grafikteki eğrileri biraz daha yakınlaştırıp \n",
    "güzel bir max_depth ve max_features ikilisi yakalamaya çalışacağım"
   ]
  },
  {
   "cell_type": "markdown",
   "id": "94f85239",
   "metadata": {},
   "source": [
    "# En uygun max_depth ve max_features ikilisini yakalamaya çalışmak"
   ]
  },
  {
   "cell_type": "code",
   "execution_count": 126,
   "id": "11db0118",
   "metadata": {},
   "outputs": [
    {
     "name": "stdout",
     "output_type": "stream",
     "text": [
      "max_depth  1 ve max _features  1  iterasyon için test sonucu : 0.6217228464419475\n",
      "max_depth  1 ve max _features  1  iterasyon için train sonucu : 0.6215780998389694\n",
      "******************************************************************************\n",
      "max_depth  1 ve max _features  2  iterasyon için test sonucu : 0.7228464419475655\n",
      "max_depth  1 ve max _features  2  iterasyon için train sonucu : 0.7246376811594203\n",
      "******************************************************************************\n",
      "max_depth  1 ve max _features  3  iterasyon için test sonucu : 0.7378277153558053\n",
      "max_depth  1 ve max _features  3  iterasyon için train sonucu : 0.750402576489533\n",
      "******************************************************************************\n",
      "max_depth  1 ve max _features  4  iterasyon için test sonucu : 0.7715355805243446\n",
      "max_depth  1 ve max _features  4  iterasyon için train sonucu : 0.7681159420289855\n",
      "******************************************************************************\n",
      "max_depth  1 ve max _features  5  iterasyon için test sonucu : 0.7790262172284644\n",
      "max_depth  1 ve max _features  5  iterasyon için train sonucu : 0.7922705314009661\n",
      "******************************************************************************\n",
      "max_depth  1 ve max _features  6  iterasyon için test sonucu : 0.7790262172284644\n",
      "max_depth  1 ve max _features  6  iterasyon için train sonucu : 0.7922705314009661\n",
      "******************************************************************************\n"
     ]
    },
    {
     "data": {
      "image/png": "[encoded data removed]",
      "text/plain": [
       "<Figure size 432x288 with 1 Axes>"
      ]
     },
     "metadata": {
      "needs_background": "light"
     },
     "output_type": "display_data"
    },
    {
     "name": "stdout",
     "output_type": "stream",
     "text": [
      "max_depth  2 ve max _features  1  iterasyon için test sonucu : 0.7528089887640449\n",
      "max_depth  2 ve max _features  1  iterasyon için train sonucu : 0.7552334943639292\n",
      "******************************************************************************\n",
      "max_depth  2 ve max _features  2  iterasyon için test sonucu : 0.7640449438202247\n",
      "max_depth  2 ve max _features  2  iterasyon için train sonucu : 0.7713365539452496\n",
      "******************************************************************************\n",
      "max_depth  2 ve max _features  3  iterasyon için test sonucu : 0.7865168539325843\n",
      "max_depth  2 ve max _features  3  iterasyon için train sonucu : 0.7987117552334944\n",
      "******************************************************************************\n",
      "max_depth  2 ve max _features  4  iterasyon için test sonucu : 0.7790262172284644\n",
      "max_depth  2 ve max _features  4  iterasyon için train sonucu : 0.7938808373590982\n",
      "******************************************************************************\n",
      "max_depth  2 ve max _features  5  iterasyon için test sonucu : 0.7790262172284644\n",
      "max_depth  2 ve max _features  5  iterasyon için train sonucu : 0.7954911433172303\n",
      "******************************************************************************\n",
      "max_depth  2 ve max _features  6  iterasyon için test sonucu : 0.7677902621722846\n",
      "max_depth  2 ve max _features  6  iterasyon için train sonucu : 0.7971014492753623\n",
      "******************************************************************************\n"
     ]
    },
    {
     "data": {
      "image/png": "[encoded data removed]",
      "text/plain": [
       "<Figure size 432x288 with 1 Axes>"
      ]
     },
     "metadata": {
      "needs_background": "light"
     },
     "output_type": "display_data"
    },
    {
     "name": "stdout",
     "output_type": "stream",
     "text": [
      "max_depth  3 ve max _features  1  iterasyon için test sonucu : 0.8014981273408239\n",
      "max_depth  3 ve max _features  1  iterasyon için train sonucu : 0.7906602254428341\n",
      "******************************************************************************\n",
      "max_depth  3 ve max _features  2  iterasyon için test sonucu : 0.8239700374531835\n",
      "max_depth  3 ve max _features  2  iterasyon için train sonucu : 0.8357487922705314\n",
      "******************************************************************************\n",
      "max_depth  3 ve max _features  3  iterasyon için test sonucu : 0.8052434456928839\n",
      "max_depth  3 ve max _features  3  iterasyon için train sonucu : 0.822866344605475\n",
      "******************************************************************************\n",
      "max_depth  3 ve max _features  4  iterasyon için test sonucu : 0.7902621722846442\n",
      "max_depth  3 ve max _features  4  iterasyon için train sonucu : 0.8164251207729468\n",
      "******************************************************************************\n",
      "max_depth  3 ve max _features  5  iterasyon için test sonucu : 0.7827715355805244\n",
      "max_depth  3 ve max _features  5  iterasyon için train sonucu : 0.8164251207729468\n",
      "******************************************************************************\n",
      "max_depth  3 ve max _features  6  iterasyon için test sonucu : 0.7827715355805244\n",
      "max_depth  3 ve max _features  6  iterasyon için train sonucu : 0.8132045088566827\n",
      "******************************************************************************\n"
     ]
    },
    {
     "data": {
      "image/png": "[encoded data removed]",
      "text/plain": [
       "<Figure size 432x288 with 1 Axes>"
      ]
     },
     "metadata": {
      "needs_background": "light"
     },
     "output_type": "display_data"
    },
    {
     "name": "stdout",
     "output_type": "stream",
     "text": [
      "max_depth  4 ve max _features  1  iterasyon için test sonucu : 0.8014981273408239\n",
      "max_depth  4 ve max _features  1  iterasyon için train sonucu : 0.8470209339774557\n",
      "******************************************************************************\n",
      "max_depth  4 ve max _features  2  iterasyon için test sonucu : 0.8389513108614233\n",
      "max_depth  4 ve max _features  2  iterasyon için train sonucu : 0.8470209339774557\n",
      "******************************************************************************\n",
      "max_depth  4 ve max _features  3  iterasyon için test sonucu : 0.8239700374531835\n",
      "max_depth  4 ve max _features  3  iterasyon için train sonucu : 0.8325281803542673\n",
      "******************************************************************************\n",
      "max_depth  4 ve max _features  4  iterasyon için test sonucu : 0.8052434456928839\n",
      "max_depth  4 ve max _features  4  iterasyon için train sonucu : 0.8293075684380032\n",
      "******************************************************************************\n",
      "max_depth  4 ve max _features  5  iterasyon için test sonucu : 0.8014981273408239\n",
      "max_depth  4 ve max _features  5  iterasyon için train sonucu : 0.8389694041867954\n",
      "******************************************************************************\n",
      "max_depth  4 ve max _features  6  iterasyon için test sonucu : 0.8089887640449438\n",
      "max_depth  4 ve max _features  6  iterasyon için train sonucu : 0.8405797101449275\n",
      "******************************************************************************\n"
     ]
    },
    {
     "data": {
      "image/png": "[encoded data removed]",
      "text/plain": [
       "<Figure size 432x288 with 1 Axes>"
      ]
     },
     "metadata": {
      "needs_background": "light"
     },
     "output_type": "display_data"
    },
    {
     "name": "stdout",
     "output_type": "stream",
     "text": [
      "max_depth  5 ve max _features  1  iterasyon için test sonucu : 0.8164794007490637\n",
      "max_depth  5 ve max _features  1  iterasyon için train sonucu : 0.855072463768116\n",
      "******************************************************************************\n",
      "max_depth  5 ve max _features  2  iterasyon için test sonucu : 0.8352059925093633\n",
      "max_depth  5 ve max _features  2  iterasyon için train sonucu : 0.8647342995169082\n",
      "******************************************************************************\n",
      "max_depth  5 ve max _features  3  iterasyon için test sonucu : 0.8352059925093633\n",
      "max_depth  5 ve max _features  3  iterasyon için train sonucu : 0.8582930756843801\n",
      "******************************************************************************\n",
      "max_depth  5 ve max _features  4  iterasyon için test sonucu : 0.8052434456928839\n",
      "max_depth  5 ve max _features  4  iterasyon için train sonucu : 0.8615136876006442\n",
      "******************************************************************************\n",
      "max_depth  5 ve max _features  5  iterasyon için test sonucu : 0.8052434456928839\n",
      "max_depth  5 ve max _features  5  iterasyon için train sonucu : 0.856682769726248\n",
      "******************************************************************************\n",
      "max_depth  5 ve max _features  6  iterasyon için test sonucu : 0.8089887640449438\n",
      "max_depth  5 ve max _features  6  iterasyon için train sonucu : 0.8615136876006442\n",
      "******************************************************************************\n"
     ]
    },
    {
     "data": {
      "image/png": "[encoded data removed]",
      "text/plain": [
       "<Figure size 432x288 with 1 Axes>"
      ]
     },
     "metadata": {
      "needs_background": "light"
     },
     "output_type": "display_data"
    },
    {
     "name": "stdout",
     "output_type": "stream",
     "text": [
      "max_depth  6 ve max _features  1  iterasyon için test sonucu : 0.8164794007490637\n",
      "max_depth  6 ve max _features  1  iterasyon için train sonucu : 0.8711755233494364\n",
      "******************************************************************************\n",
      "max_depth  6 ve max _features  2  iterasyon için test sonucu : 0.8239700374531835\n",
      "max_depth  6 ve max _features  2  iterasyon için train sonucu : 0.8743961352657005\n",
      "******************************************************************************\n",
      "max_depth  6 ve max _features  3  iterasyon için test sonucu : 0.8089887640449438\n",
      "max_depth  6 ve max _features  3  iterasyon için train sonucu : 0.8776167471819646\n",
      "******************************************************************************\n",
      "max_depth  6 ve max _features  4  iterasyon için test sonucu : 0.8014981273408239\n",
      "max_depth  6 ve max _features  4  iterasyon için train sonucu : 0.8856682769726248\n",
      "******************************************************************************\n",
      "max_depth  6 ve max _features  5  iterasyon için test sonucu : 0.8014981273408239\n",
      "max_depth  6 ve max _features  5  iterasyon için train sonucu : 0.8921095008051529\n",
      "******************************************************************************\n",
      "max_depth  6 ve max _features  6  iterasyon için test sonucu : 0.8052434456928839\n",
      "max_depth  6 ve max _features  6  iterasyon için train sonucu : 0.8921095008051529\n",
      "******************************************************************************\n"
     ]
    },
    {
     "data": {
      "image/png": "[encoded data removed]",
      "text/plain": [
       "<Figure size 432x288 with 1 Axes>"
      ]
     },
     "metadata": {
      "needs_background": "light"
     },
     "output_type": "display_data"
    },
    {
     "name": "stdout",
     "output_type": "stream",
     "text": [
      "max_depth  7 ve max _features  1  iterasyon için test sonucu : 0.8164794007490637\n",
      "max_depth  7 ve max _features  1  iterasyon için train sonucu : 0.8872785829307569\n",
      "******************************************************************************\n",
      "max_depth  7 ve max _features  2  iterasyon için test sonucu : 0.8239700374531835\n",
      "max_depth  7 ve max _features  2  iterasyon için train sonucu : 0.9033816425120773\n",
      "******************************************************************************\n",
      "max_depth  7 ve max _features  3  iterasyon için test sonucu : 0.8239700374531835\n",
      "max_depth  7 ve max _features  3  iterasyon için train sonucu : 0.9066022544283414\n",
      "******************************************************************************\n",
      "max_depth  7 ve max _features  4  iterasyon için test sonucu : 0.8239700374531835\n",
      "max_depth  7 ve max _features  4  iterasyon için train sonucu : 0.9001610305958132\n",
      "******************************************************************************\n",
      "max_depth  7 ve max _features  5  iterasyon için test sonucu : 0.8052434456928839\n",
      "max_depth  7 ve max _features  5  iterasyon için train sonucu : 0.9049919484702094\n",
      "******************************************************************************\n",
      "max_depth  7 ve max _features  6  iterasyon için test sonucu : 0.8089887640449438\n",
      "max_depth  7 ve max _features  6  iterasyon için train sonucu : 0.9098228663446055\n",
      "******************************************************************************\n"
     ]
    },
    {
     "data": {
      "image/png": "[encoded data removed]",
      "text/plain": [
       "<Figure size 432x288 with 1 Axes>"
      ]
     },
     "metadata": {
      "needs_background": "light"
     },
     "output_type": "display_data"
    },
    {
     "name": "stdout",
     "output_type": "stream",
     "text": [
      "max_depth  8 ve max _features  1  iterasyon için test sonucu : 0.8164794007490637\n",
      "max_depth  8 ve max _features  1  iterasyon için train sonucu : 0.9001610305958132\n",
      "******************************************************************************\n",
      "max_depth  8 ve max _features  2  iterasyon için test sonucu : 0.8277153558052435\n",
      "max_depth  8 ve max _features  2  iterasyon için train sonucu : 0.9049919484702094\n",
      "******************************************************************************\n",
      "max_depth  8 ve max _features  3  iterasyon için test sonucu : 0.8202247191011236\n",
      "max_depth  8 ve max _features  3  iterasyon için train sonucu : 0.9162640901771336\n",
      "******************************************************************************\n",
      "max_depth  8 ve max _features  4  iterasyon için test sonucu : 0.8202247191011236\n",
      "max_depth  8 ve max _features  4  iterasyon için train sonucu : 0.9130434782608695\n",
      "******************************************************************************\n",
      "max_depth  8 ve max _features  5  iterasyon için test sonucu : 0.8239700374531835\n",
      "max_depth  8 ve max _features  5  iterasyon için train sonucu : 0.9227053140096618\n",
      "******************************************************************************\n",
      "max_depth  8 ve max _features  6  iterasyon için test sonucu : 0.8014981273408239\n",
      "max_depth  8 ve max _features  6  iterasyon için train sonucu : 0.9210950080515298\n",
      "******************************************************************************\n"
     ]
    },
    {
     "data": {
      "image/png": "[encoded data removed]",
      "text/plain": [
       "<Figure size 432x288 with 1 Axes>"
      ]
     },
     "metadata": {
      "needs_background": "light"
     },
     "output_type": "display_data"
    },
    {
     "name": "stdout",
     "output_type": "stream",
     "text": [
      "max_depth  9 ve max _features  1  iterasyon için test sonucu : 0.8239700374531835\n",
      "max_depth  9 ve max _features  1  iterasyon için train sonucu : 0.9178743961352657\n",
      "******************************************************************************\n",
      "max_depth  9 ve max _features  2  iterasyon için test sonucu : 0.8314606741573034\n",
      "max_depth  9 ve max _features  2  iterasyon için train sonucu : 0.9210950080515298\n",
      "******************************************************************************\n",
      "max_depth  9 ve max _features  3  iterasyon için test sonucu : 0.8352059925093633\n",
      "max_depth  9 ve max _features  3  iterasyon için train sonucu : 0.9210950080515298\n",
      "******************************************************************************\n",
      "max_depth  9 ve max _features  4  iterasyon için test sonucu : 0.8314606741573034\n",
      "max_depth  9 ve max _features  4  iterasyon için train sonucu : 0.9307568438003221\n",
      "******************************************************************************\n",
      "max_depth  9 ve max _features  5  iterasyon için test sonucu : 0.8164794007490637\n",
      "max_depth  9 ve max _features  5  iterasyon için train sonucu : 0.92914653784219\n",
      "******************************************************************************\n",
      "max_depth  9 ve max _features  6  iterasyon için test sonucu : 0.8202247191011236\n",
      "max_depth  9 ve max _features  6  iterasyon için train sonucu : 0.9323671497584541\n",
      "******************************************************************************\n"
     ]
    },
    {
     "data": {
      "image/png": "[encoded data removed]",
      "text/plain": [
       "<Figure size 432x288 with 1 Axes>"
      ]
     },
     "metadata": {
      "needs_background": "light"
     },
     "output_type": "display_data"
    }
   ],
   "source": [
    "\n",
    "for i in range(1,10):\n",
    "    test_scores=[]\n",
    "    train_scores=[]\n",
    "    for j in range(1,7):\n",
    "        rf_tuned=RandomForestClassifier(n_estimators=rf_cv_model.best_params_['n_estimators'],\n",
    "                                max_features=j,\n",
    "                                min_samples_split=rf_cv_model.best_params_['min_samples_split'],\n",
    "                                max_depth=i\n",
    "                                ).fit(x_train, y_train)\n",
    "        \n",
    "        test_pred=rf_tuned.predict(x_test)\n",
    "        test_acc=accuracy_score(y_test,test_pred)\n",
    "        test_scores.append(test_acc)\n",
    "        print('max_depth ',i,'ve max _features ',j,' iterasyon için test sonucu :',test_acc)\n",
    "        \n",
    "        train_pred=rf_tuned.predict(x_train)\n",
    "        train_acc=accuracy_score(y_train,train_pred)\n",
    "        train_scores.append(train_acc)\n",
    "        print('max_depth ',i,'ve max _features ',j,' iterasyon için train sonucu :',train_acc)\n",
    "        print('******************************************************************************')\n",
    "    plt.plot(range(1,7), train_scores, '-o', label='Train')\n",
    "    plt.plot(range(1,7), test_scores, '-o', label='Test')\n",
    "    plt.legend()\n",
    "    plt.show()"
   ]
  },
  {
   "cell_type": "markdown",
   "id": "6ca158af",
   "metadata": {},
   "source": [
    "Sonuç olarak hem test sonucunun yüksek olması için ve test ve train arasında fazla fark olmaması için max_depth 4 ve max_features=2 olan ikiliyi seçiyorum"
   ]
  },
  {
   "cell_type": "markdown",
   "id": "468a03bd",
   "metadata": {},
   "source": [
    "# XGBoost"
   ]
  },
  {
   "cell_type": "code",
   "execution_count": 9,
   "id": "2b927fb8",
   "metadata": {},
   "outputs": [],
   "source": [
    "from xgboost import XGBClassifier"
   ]
  },
  {
   "cell_type": "code",
   "execution_count": 10,
   "id": "d23f0920",
   "metadata": {},
   "outputs": [],
   "source": [
    "xgb=XGBClassifier()\n",
    "xgb_params={\n",
    "        'n_estimators':[200,500,600],\n",
    "        'subsample':[0.6,0.8],\n",
    "        'max_depth':[5,7]    }\n",
    "xgb_cv_model=GridSearchCV(xgb, xgb_params,cv=10).fit(x_train,y_train)"
   ]
  },
  {
   "cell_type": "code",
   "execution_count": 11,
   "id": "8cd532eb",
   "metadata": {},
   "outputs": [
    {
     "name": "stdout",
     "output_type": "stream",
     "text": [
      "{'max_depth': 5, 'n_estimators': 500, 'subsample': 0.6}\n"
     ]
    }
   ],
   "source": [
    "print(xgb_cv_model.best_params_)"
   ]
  },
  {
   "cell_type": "raw",
   "id": "7564cdba",
   "metadata": {},
   "source": [
    "Final Model"
   ]
  },
  {
   "cell_type": "code",
   "execution_count": 12,
   "id": "18195dbe",
   "metadata": {},
   "outputs": [],
   "source": [
    "xgb_tuned=XGBClassifier(subsample=xgb_cv_model.best_params_['subsample'],\n",
    "                        n_estimators=xgb_cv_model.best_params_['n_estimators'],\n",
    "                        max_depth=xgb_cv_model.best_params_['max_depth'],\n",
    "                        ).fit(x_train,y_train)"
   ]
  },
  {
   "cell_type": "code",
   "execution_count": 13,
   "id": "7a8c0a89",
   "metadata": {},
   "outputs": [
    {
     "name": "stdout",
     "output_type": "stream",
     "text": [
      "Test skoru : 0.7940074906367042\n",
      "Train skoru : 0.9790660225442834\n",
      "K katlı test skoru 0.8017429193899783\n",
      "K katlı eğitim skoru 0.7684862562911344\n"
     ]
    }
   ],
   "source": [
    "y_pred_test=xgb_tuned.predict(x_test)\n",
    "y_pred_train=xgb_tuned.predict(x_train)\n",
    "\n",
    "xgb_accuracy_test=accuracy_score(y_test, y_pred_test)\n",
    "xgb_accuracy_train=accuracy_score(y_train, y_pred_train)\n",
    "print('Test skoru :',xgb_accuracy_test)\n",
    "print('Train skoru :',xgb_accuracy_train)\n",
    "\n",
    "print('K katlı test skoru',cross_val_score(xgb_tuned,x_test,y_test,cv=15).mean())\n",
    "print('K katlı eğitim skoru',cross_val_score(xgb_tuned,x_train,y_train,cv=15).mean())\n"
   ]
  },
  {
   "cell_type": "raw",
   "id": "468f915f",
   "metadata": {},
   "source": [
    "Yukarıda test ve train arasındaki fark çok fazla bunu düşürüp test sonucunu iyileştirmeye çalışacağız.\n",
    "GridSearchCV fonksiyonuma yeni parametreler ekleyip yenide bir CV işlemi yapacağım.\n",
    "Overfiti engellemek üzere yeni ekleyeceğim parametreler;\n",
    "min_split_loss=Ağacın bir yaprak düğümünde daha fazla bölüm oluşturmak için gereken minimum kayıp azaltma\n",
    "learning_rate=Aşırı öğrenmeyi engellemek için kullanılan step size\n",
    "\n",
    "Bunlara ek olarak max_depth ilede oynanabilir"
   ]
  },
  {
   "cell_type": "code",
   "execution_count": 14,
   "id": "51dee44c",
   "metadata": {},
   "outputs": [],
   "source": [
    "xgb=XGBClassifier()\n",
    "\n",
    "xgb_params={\n",
    "        'n_estimators':[200,500,600],\n",
    "        'subsample':[0.6,0.8],\n",
    "        'min_split_loss':[1,2,3],\n",
    "        'learning_rate':[0.1,0.01]\n",
    "}\n",
    "xgb_cv_model=GridSearchCV(xgb, xgb_params,cv=10).fit(x_train,y_train)\n",
    "    "
   ]
  },
  {
   "cell_type": "code",
   "execution_count": 15,
   "id": "2bd6949c",
   "metadata": {},
   "outputs": [
    {
     "name": "stdout",
     "output_type": "stream",
     "text": [
      "{'learning_rate': 0.01, 'min_split_loss': 1, 'n_estimators': 600, 'subsample': 0.8}\n"
     ]
    }
   ],
   "source": [
    "print(xgb_cv_model.best_params_)"
   ]
  },
  {
   "cell_type": "code",
   "execution_count": 28,
   "id": "573459e3",
   "metadata": {},
   "outputs": [],
   "source": [
    "xgb_tuned=XGBClassifier(subsample=xgb_cv_model.best_params_['subsample'],\n",
    "                        n_estimators=xgb_cv_model.best_params_['n_estimators'],\n",
    "                        max_depth=7,\n",
    "                        min_split_loss=3,\n",
    "                        learning_rate=0.1\n",
    "                       ).fit(x_train,y_train)"
   ]
  },
  {
   "cell_type": "code",
   "execution_count": 29,
   "id": "12189d19",
   "metadata": {},
   "outputs": [
    {
     "name": "stdout",
     "output_type": "stream",
     "text": [
      "Test skoru : 0.8352059925093633\n",
      "Train skoru : 0.895330112721417\n",
      "K katlı test skoru 0.7976034858387799\n",
      "K katlı eğitim skoru 0.8135501355013551\n"
     ]
    }
   ],
   "source": [
    "y_pred_test=xgb_tuned.predict(x_test)\n",
    "y_pred_train=xgb_tuned.predict(x_train)\n",
    "\n",
    "xgb_accuracy_test=accuracy_score(y_test, y_pred_test)\n",
    "xgb_accuracy_train=accuracy_score(y_train, y_pred_train)\n",
    "print('Test skoru :',xgb_accuracy_test)\n",
    "print('Train skoru :',xgb_accuracy_train)\n",
    "\n",
    "print('K katlı test skoru',cross_val_score(xgb_tuned,x_test,y_test,cv=15).mean())\n",
    "print('K katlı eğitim skoru',cross_val_score(xgb_tuned,x_train,y_train,cv=15).mean())\n"
   ]
  },
  {
   "cell_type": "raw",
   "id": "07cbc084",
   "metadata": {},
   "source": [
    "Aradaki farkı kapattık ve biraz daha iyi bir sonuç aldık"
   ]
  },
  {
   "cell_type": "raw",
   "id": "aa1f5c66",
   "metadata": {},
   "source": []
  },
  {
   "cell_type": "code",
   "execution_count": null,
   "id": "9c965868",
   "metadata": {},
   "outputs": [],
   "source": []
  },
  {
   "cell_type": "code",
   "execution_count": 5,
   "id": "83b34588",
   "metadata": {},
   "outputs": [],
   "source": []
  },
  {
   "cell_type": "code",
   "execution_count": 6,
   "id": "9e9c0a6c",
   "metadata": {},
   "outputs": [],
   "source": []
  },
  {
   "cell_type": "code",
   "execution_count": null,
   "id": "1547a35b",
   "metadata": {},
   "outputs": [],
   "source": []
  },
  {
   "cell_type": "code",
   "execution_count": null,
   "id": "2c7e6449",
   "metadata": {},
   "outputs": [],
   "source": []
  }
 ],
 "metadata": {
  "kernelspec": {
   "display_name": "Python 3 (ipykernel)",
   "language": "python",
   "name": "python3"
  },
  "language_info": {
   "codemirror_mode": {
    "name": "ipython",
    "version": 3
   },
   "file_extension": ".py",
   "mimetype": "text/x-python",
   "name": "python",
   "nbconvert_exporter": "python",
   "pygments_lexer": "ipython3",
   "version": "3.9.12"
  },
  "vscode": {
   "interpreter": {
    "hash": "a3aab4919540bf3b8b93c0c60e84dfd5b3088439627f5f906b230c37ede04daf"
   }
  }
 },
 "nbformat": 4,
 "nbformat_minor": 5
}
